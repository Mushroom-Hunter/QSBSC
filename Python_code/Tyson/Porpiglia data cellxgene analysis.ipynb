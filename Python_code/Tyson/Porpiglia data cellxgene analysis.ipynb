{
 "cells": [
  {
   "cell_type": "markdown",
   "metadata": {},
   "source": [
    "### Nat Cell Biol 2017 Porpiglia data analysis \n",
    "#### Generating `anndata` object from R-exported data.frame in `csv` format\n",
    "Below is an excerpt from https://scanpy.readthedocs.io/en/latest/basic_usage.html\n",
    "\n",
    "At the most basic level, an AnnData object adata stores a data matrix (adata.X), dataframe-like annotation of observations (adata.obs) and variables (adata.var) and unstructured dict-like annotation (adata.uns). Values can be retrieved and appended via adata.obs['key1'] and adata.var['key2']. Names of observations and variables can be accessed via adata.obs_names and adata.var_names, respectively. AnnData objects can be sliced like dataframes, for example, adata_subset = adata[:, list_of_gene_names]"
   ]
  },
  {
   "cell_type": "code",
   "execution_count": 1,
   "metadata": {},
   "outputs": [],
   "source": [
    "import sys\n",
    "import numpy as np\n",
    "import scanpy.api as sc\n",
    "import pandas as pd\n",
    "import os"
   ]
  },
  {
   "cell_type": "code",
   "execution_count": 2,
   "metadata": {},
   "outputs": [
    {
     "data": {
      "text/html": [
       "<div>\n",
       "<style scoped>\n",
       "    .dataframe tbody tr th:only-of-type {\n",
       "        vertical-align: middle;\n",
       "    }\n",
       "\n",
       "    .dataframe tbody tr th {\n",
       "        vertical-align: top;\n",
       "    }\n",
       "\n",
       "    .dataframe thead th {\n",
       "        text-align: right;\n",
       "    }\n",
       "</style>\n",
       "<table border=\"1\" class=\"dataframe\">\n",
       "  <thead>\n",
       "    <tr style=\"text-align: right;\">\n",
       "      <th></th>\n",
       "      <th>sample</th>\n",
       "      <th>rep</th>\n",
       "      <th>alpha7integrin</th>\n",
       "      <th>CD104</th>\n",
       "      <th>CD11b</th>\n",
       "      <th>CD29</th>\n",
       "      <th>CD31</th>\n",
       "      <th>CD34</th>\n",
       "      <th>CD44</th>\n",
       "      <th>CD45</th>\n",
       "      <th>...</th>\n",
       "      <th>Myf5</th>\n",
       "      <th>MyoD</th>\n",
       "      <th>Myogenin</th>\n",
       "      <th>Pax7</th>\n",
       "      <th>pRb</th>\n",
       "      <th>Sca1</th>\n",
       "      <th>Thy1.2</th>\n",
       "      <th>Viability</th>\n",
       "      <th>Time</th>\n",
       "      <th>IdU</th>\n",
       "    </tr>\n",
       "  </thead>\n",
       "  <tbody>\n",
       "    <tr>\n",
       "      <th>0</th>\n",
       "      <td>Day0</td>\n",
       "      <td>1</td>\n",
       "      <td>344.840668</td>\n",
       "      <td>2.495433</td>\n",
       "      <td>3.060725</td>\n",
       "      <td>49.276970</td>\n",
       "      <td>2.760383</td>\n",
       "      <td>14.314158</td>\n",
       "      <td>0.000000</td>\n",
       "      <td>0.000000</td>\n",
       "      <td>...</td>\n",
       "      <td>10.736518</td>\n",
       "      <td>0.168649</td>\n",
       "      <td>0.000000</td>\n",
       "      <td>49.415661</td>\n",
       "      <td>203.260544</td>\n",
       "      <td>0.302854</td>\n",
       "      <td>27.989950</td>\n",
       "      <td>1.499428</td>\n",
       "      <td>18398.099609</td>\n",
       "      <td>2.975974</td>\n",
       "    </tr>\n",
       "    <tr>\n",
       "      <th>1</th>\n",
       "      <td>Day0</td>\n",
       "      <td>1</td>\n",
       "      <td>54.753143</td>\n",
       "      <td>0.000000</td>\n",
       "      <td>5.858095</td>\n",
       "      <td>47.731339</td>\n",
       "      <td>0.212063</td>\n",
       "      <td>67.654037</td>\n",
       "      <td>1.042369</td>\n",
       "      <td>0.388540</td>\n",
       "      <td>...</td>\n",
       "      <td>21.015303</td>\n",
       "      <td>0.820392</td>\n",
       "      <td>1.104694</td>\n",
       "      <td>2.085173</td>\n",
       "      <td>266.526550</td>\n",
       "      <td>91.011009</td>\n",
       "      <td>85.731400</td>\n",
       "      <td>5.475759</td>\n",
       "      <td>224240.890625</td>\n",
       "      <td>0.000000</td>\n",
       "    </tr>\n",
       "    <tr>\n",
       "      <th>2</th>\n",
       "      <td>Day0</td>\n",
       "      <td>1</td>\n",
       "      <td>453.292206</td>\n",
       "      <td>1022.478638</td>\n",
       "      <td>0.000000</td>\n",
       "      <td>35.449692</td>\n",
       "      <td>0.000000</td>\n",
       "      <td>17.784491</td>\n",
       "      <td>0.436887</td>\n",
       "      <td>0.000000</td>\n",
       "      <td>...</td>\n",
       "      <td>9.863111</td>\n",
       "      <td>5.407280</td>\n",
       "      <td>4.974728</td>\n",
       "      <td>2.345337</td>\n",
       "      <td>1.913353</td>\n",
       "      <td>1.910112</td>\n",
       "      <td>3.810173</td>\n",
       "      <td>21.914970</td>\n",
       "      <td>190661.265625</td>\n",
       "      <td>5.069803</td>\n",
       "    </tr>\n",
       "    <tr>\n",
       "      <th>3</th>\n",
       "      <td>Day0</td>\n",
       "      <td>1</td>\n",
       "      <td>30.162180</td>\n",
       "      <td>0.000000</td>\n",
       "      <td>7.866662</td>\n",
       "      <td>243.115280</td>\n",
       "      <td>0.479881</td>\n",
       "      <td>126.856155</td>\n",
       "      <td>1.203544</td>\n",
       "      <td>1.990603</td>\n",
       "      <td>...</td>\n",
       "      <td>29.847252</td>\n",
       "      <td>2.607695</td>\n",
       "      <td>1.141429</td>\n",
       "      <td>1.695326</td>\n",
       "      <td>383.671387</td>\n",
       "      <td>5.828043</td>\n",
       "      <td>43.202938</td>\n",
       "      <td>22.641769</td>\n",
       "      <td>70840.039062</td>\n",
       "      <td>0.000000</td>\n",
       "    </tr>\n",
       "    <tr>\n",
       "      <th>4</th>\n",
       "      <td>Day0</td>\n",
       "      <td>1</td>\n",
       "      <td>322.565460</td>\n",
       "      <td>2.992018</td>\n",
       "      <td>0.000000</td>\n",
       "      <td>40.614971</td>\n",
       "      <td>1.098632</td>\n",
       "      <td>0.284672</td>\n",
       "      <td>0.267805</td>\n",
       "      <td>0.000000</td>\n",
       "      <td>...</td>\n",
       "      <td>8.022168</td>\n",
       "      <td>4.830343</td>\n",
       "      <td>0.139492</td>\n",
       "      <td>3.661612</td>\n",
       "      <td>0.166773</td>\n",
       "      <td>2.073921</td>\n",
       "      <td>130.697891</td>\n",
       "      <td>6.885386</td>\n",
       "      <td>159703.187500</td>\n",
       "      <td>5.083109</td>\n",
       "    </tr>\n",
       "  </tbody>\n",
       "</table>\n",
       "<p>5 rows × 25 columns</p>\n",
       "</div>"
      ],
      "text/plain": [
       "  sample  rep  alpha7integrin        CD104     CD11b        CD29      CD31  \\\n",
       "0   Day0    1      344.840668     2.495433  3.060725   49.276970  2.760383   \n",
       "1   Day0    1       54.753143     0.000000  5.858095   47.731339  0.212063   \n",
       "2   Day0    1      453.292206  1022.478638  0.000000   35.449692  0.000000   \n",
       "3   Day0    1       30.162180     0.000000  7.866662  243.115280  0.479881   \n",
       "4   Day0    1      322.565460     2.992018  0.000000   40.614971  1.098632   \n",
       "\n",
       "         CD34      CD44      CD45    ...          Myf5      MyoD  Myogenin  \\\n",
       "0   14.314158  0.000000  0.000000    ...     10.736518  0.168649  0.000000   \n",
       "1   67.654037  1.042369  0.388540    ...     21.015303  0.820392  1.104694   \n",
       "2   17.784491  0.436887  0.000000    ...      9.863111  5.407280  4.974728   \n",
       "3  126.856155  1.203544  1.990603    ...     29.847252  2.607695  1.141429   \n",
       "4    0.284672  0.267805  0.000000    ...      8.022168  4.830343  0.139492   \n",
       "\n",
       "        Pax7         pRb       Sca1      Thy1.2  Viability           Time  \\\n",
       "0  49.415661  203.260544   0.302854   27.989950   1.499428   18398.099609   \n",
       "1   2.085173  266.526550  91.011009   85.731400   5.475759  224240.890625   \n",
       "2   2.345337    1.913353   1.910112    3.810173  21.914970  190661.265625   \n",
       "3   1.695326  383.671387   5.828043   43.202938  22.641769   70840.039062   \n",
       "4   3.661612    0.166773   2.073921  130.697891   6.885386  159703.187500   \n",
       "\n",
       "        IdU  \n",
       "0  2.975974  \n",
       "1  0.000000  \n",
       "2  5.069803  \n",
       "3  0.000000  \n",
       "4  5.083109  \n",
       "\n",
       "[5 rows x 25 columns]"
      ]
     },
     "execution_count": 2,
     "metadata": {},
     "output_type": "execute_result"
    }
   ],
   "source": [
    "dat = pd.read_csv(os.path.expanduser('../../Data/Porpiglia/FR-FCM-ZY3K_gated.csv'))\n",
    "dat.head()"
   ]
  },
  {
   "cell_type": "markdown",
   "metadata": {},
   "source": [
    "Should exclude (delete) the `Time` column as this is not a relevant parameter."
   ]
  },
  {
   "cell_type": "code",
   "execution_count": 3,
   "metadata": {},
   "outputs": [],
   "source": [
    "del dat['Time']\n",
    "adata = sc.AnnData(dat.iloc[:,2:])\n",
    "adata.obs['sample'] = dat[\"sample\"]\n",
    "adata.obs['rep'] = dat[\"rep\"]\n",
    " "
   ]
  },
  {
   "cell_type": "code",
   "execution_count": 4,
   "metadata": {},
   "outputs": [
    {
     "data": {
      "text/plain": [
       "AnnData object with n_obs × n_vars = 11124 × 22 \n",
       "    obs: 'sample', 'rep'"
      ]
     },
     "execution_count": 4,
     "metadata": {},
     "output_type": "execute_result"
    }
   ],
   "source": [
    "adata"
   ]
  },
  {
   "cell_type": "code",
   "execution_count": 5,
   "metadata": {},
   "outputs": [
    {
     "name": "stderr",
     "output_type": "stream",
     "text": [
      "... storing 'sample' as categorical\n"
     ]
    }
   ],
   "source": [
    "adata.write_h5ad(os.path.expanduser('../../Data/Porpiglia/ZY3K.h5ad'))\n"
   ]
  },
  {
   "cell_type": "code",
   "execution_count": null,
   "metadata": {},
   "outputs": [],
   "source": []
  }
 ],
 "metadata": {
  "kernelspec": {
   "display_name": "Python 3",
   "language": "python",
   "name": "python3"
  },
  "language_info": {
   "codemirror_mode": {
    "name": "ipython",
    "version": 3
   },
   "file_extension": ".py",
   "mimetype": "text/x-python",
   "name": "python",
   "nbconvert_exporter": "python",
   "pygments_lexer": "ipython3",
   "version": "3.6.7"
  }
 },
 "nbformat": 4,
 "nbformat_minor": 2
}
